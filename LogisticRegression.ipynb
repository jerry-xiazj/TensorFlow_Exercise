{
 "cells": [
  {
   "cell_type": "code",
   "execution_count": 1,
   "metadata": {},
   "outputs": [],
   "source": [
    "import tensorflow as tf\n",
    "import numpy as np\n",
    "from tensorflow.examples.tutorials.mnist import input_data"
   ]
  },
  {
   "cell_type": "code",
   "execution_count": 2,
   "metadata": {},
   "outputs": [],
   "source": [
    "def init_weights(shape):\n",
    "    return tf.Variable(tf.random_normal(shape,stddev=0.01))"
   ]
  },
  {
   "cell_type": "code",
   "execution_count": 3,
   "metadata": {},
   "outputs": [],
   "source": [
    "def model(X,w):\n",
    "    return tf.matmul(X,w)"
   ]
  },
  {
   "cell_type": "code",
   "execution_count": 4,
   "metadata": {},
   "outputs": [
    {
     "name": "stdout",
     "output_type": "stream",
     "text": [
      "WARNING:tensorflow:From <ipython-input-4-45e7f50762fe>:1: read_data_sets (from tensorflow.contrib.learn.python.learn.datasets.mnist) is deprecated and will be removed in a future version.\n",
      "Instructions for updating:\n",
      "Please use alternatives such as official/mnist/dataset.py from tensorflow/models.\n",
      "WARNING:tensorflow:From C:\\ProgramData\\Anaconda3\\lib\\site-packages\\tensorflow\\contrib\\learn\\python\\learn\\datasets\\mnist.py:260: maybe_download (from tensorflow.contrib.learn.python.learn.datasets.base) is deprecated and will be removed in a future version.\n",
      "Instructions for updating:\n",
      "Please write your own downloading logic.\n",
      "WARNING:tensorflow:From C:\\ProgramData\\Anaconda3\\lib\\site-packages\\tensorflow\\contrib\\learn\\python\\learn\\datasets\\mnist.py:262: extract_images (from tensorflow.contrib.learn.python.learn.datasets.mnist) is deprecated and will be removed in a future version.\n",
      "Instructions for updating:\n",
      "Please use tf.data to implement this functionality.\n",
      "Extracting MNIST_data\\train-images-idx3-ubyte.gz\n",
      "WARNING:tensorflow:From C:\\ProgramData\\Anaconda3\\lib\\site-packages\\tensorflow\\contrib\\learn\\python\\learn\\datasets\\mnist.py:267: extract_labels (from tensorflow.contrib.learn.python.learn.datasets.mnist) is deprecated and will be removed in a future version.\n",
      "Instructions for updating:\n",
      "Please use tf.data to implement this functionality.\n",
      "Extracting MNIST_data\\train-labels-idx1-ubyte.gz\n",
      "WARNING:tensorflow:From C:\\ProgramData\\Anaconda3\\lib\\site-packages\\tensorflow\\contrib\\learn\\python\\learn\\datasets\\mnist.py:110: dense_to_one_hot (from tensorflow.contrib.learn.python.learn.datasets.mnist) is deprecated and will be removed in a future version.\n",
      "Instructions for updating:\n",
      "Please use tf.one_hot on tensors.\n",
      "Extracting MNIST_data\\t10k-images-idx3-ubyte.gz\n",
      "Extracting MNIST_data\\t10k-labels-idx1-ubyte.gz\n",
      "WARNING:tensorflow:From C:\\ProgramData\\Anaconda3\\lib\\site-packages\\tensorflow\\contrib\\learn\\python\\learn\\datasets\\mnist.py:290: DataSet.__init__ (from tensorflow.contrib.learn.python.learn.datasets.mnist) is deprecated and will be removed in a future version.\n",
      "Instructions for updating:\n",
      "Please use alternatives such as official/mnist/dataset.py from tensorflow/models.\n"
     ]
    }
   ],
   "source": [
    "mnist = input_data.read_data_sets(\"MNIST_data\", one_hot=True)\n",
    "trX, trY, teX, teY = mnist.train.images, mnist.train.labels, mnist.test.images, mnist.test.labels"
   ]
  },
  {
   "cell_type": "code",
   "execution_count": 5,
   "metadata": {},
   "outputs": [],
   "source": [
    "X = tf.placeholder(\"float\", [None, 784])\n",
    "Y = tf.placeholder(\"float\", [None, 10])"
   ]
  },
  {
   "cell_type": "code",
   "execution_count": 16,
   "metadata": {},
   "outputs": [],
   "source": [
    "w = init_weights([784, 10])\n",
    "py_x = model(X,w)"
   ]
  },
  {
   "cell_type": "code",
   "execution_count": 7,
   "metadata": {},
   "outputs": [
    {
     "name": "stdout",
     "output_type": "stream",
     "text": [
      "WARNING:tensorflow:From <ipython-input-7-7a5b5c2b1b01>:1: softmax_cross_entropy_with_logits (from tensorflow.python.ops.nn_ops) is deprecated and will be removed in a future version.\n",
      "Instructions for updating:\n",
      "\n",
      "Future major versions of TensorFlow will allow gradients to flow\n",
      "into the labels input on backprop by default.\n",
      "\n",
      "See `tf.nn.softmax_cross_entropy_with_logits_v2`.\n",
      "\n"
     ]
    }
   ],
   "source": [
    "cost = tf.reduce_mean(tf.nn.softmax_cross_entropy_with_logits(logits=py_x, labels=Y))\n",
    "train_op = tf.train.GradientDescentOptimizer(0.05).minimize(cost)\n",
    "predict_op = tf.argmax(py_x,1)"
   ]
  },
  {
   "cell_type": "code",
   "execution_count": 17,
   "metadata": {},
   "outputs": [
    {
     "name": "stdout",
     "output_type": "stream",
     "text": [
      "0 0.8844\n",
      "1 0.8973\n",
      "2 0.9037\n",
      "3 0.907\n",
      "4 0.91\n",
      "5 0.9113\n",
      "6 0.9123\n",
      "7 0.9137\n",
      "8 0.9145\n",
      "9 0.9159\n",
      "10 0.9163\n",
      "11 0.917\n",
      "12 0.9171\n",
      "13 0.9169\n",
      "14 0.9172\n",
      "15 0.9178\n",
      "16 0.918\n",
      "17 0.9187\n",
      "18 0.9189\n",
      "19 0.9193\n",
      "20 0.9195\n",
      "21 0.92\n",
      "22 0.9203\n",
      "23 0.9208\n",
      "24 0.9206\n",
      "25 0.9207\n",
      "26 0.9207\n",
      "27 0.9209\n",
      "28 0.9211\n",
      "29 0.9211\n",
      "30 0.9219\n",
      "31 0.9218\n",
      "32 0.9215\n",
      "33 0.9215\n",
      "34 0.9215\n",
      "35 0.9213\n",
      "36 0.9214\n",
      "37 0.9215\n",
      "38 0.9217\n",
      "39 0.922\n",
      "40 0.922\n",
      "41 0.9222\n",
      "42 0.9219\n",
      "43 0.9218\n",
      "44 0.9216\n",
      "45 0.9216\n",
      "46 0.9216\n",
      "47 0.9214\n",
      "48 0.9215\n",
      "49 0.9216\n",
      "50 0.9219\n",
      "51 0.9222\n",
      "52 0.9222\n",
      "53 0.9224\n",
      "54 0.9225\n",
      "55 0.9227\n",
      "56 0.9229\n",
      "57 0.9229\n",
      "58 0.9229\n",
      "59 0.9229\n",
      "60 0.9231\n",
      "61 0.9233\n",
      "62 0.9233\n",
      "63 0.9234\n",
      "64 0.9234\n",
      "65 0.9234\n",
      "66 0.9233\n",
      "67 0.9235\n",
      "68 0.9234\n",
      "69 0.9234\n",
      "70 0.9234\n",
      "71 0.9233\n",
      "72 0.9233\n",
      "73 0.9232\n",
      "74 0.9233\n",
      "75 0.9234\n",
      "76 0.9234\n",
      "77 0.9234\n",
      "78 0.9234\n",
      "79 0.9234\n",
      "80 0.9233\n",
      "81 0.9234\n",
      "82 0.9236\n",
      "83 0.9234\n",
      "84 0.9235\n",
      "85 0.9235\n",
      "86 0.9235\n",
      "87 0.9233\n",
      "88 0.9233\n",
      "89 0.9233\n",
      "90 0.9233\n",
      "91 0.9232\n",
      "92 0.9231\n",
      "93 0.9232\n",
      "94 0.9232\n",
      "95 0.9232\n",
      "96 0.9232\n",
      "97 0.9232\n",
      "98 0.9232\n",
      "99 0.9232\n"
     ]
    }
   ],
   "source": [
    "with tf.Session() as sess:\n",
    "    tf.global_variables_initializer().run()\n",
    "    for i in range(100):\n",
    "        for start, end in zip(range(0, len(trX), 128), range(128, len(trX)+1, 128)):\n",
    "            sess.run(train_op, feed_dict={X: trX[start:end], Y: trY[start:end]})\n",
    "        print(i, np.mean(np.argmax(teY, axis=1) ==\n",
    "                        sess.run(predict_op, feed_dict={X:teX})))"
   ]
  },
  {
   "cell_type": "code",
   "execution_count": null,
   "metadata": {},
   "outputs": [],
   "source": []
  }
 ],
 "metadata": {
  "kernelspec": {
   "display_name": "Python 3",
   "language": "python",
   "name": "python3"
  },
  "language_info": {
   "codemirror_mode": {
    "name": "ipython",
    "version": 3
   },
   "file_extension": ".py",
   "mimetype": "text/x-python",
   "name": "python",
   "nbconvert_exporter": "python",
   "pygments_lexer": "ipython3",
   "version": "3.7.1"
  }
 },
 "nbformat": 4,
 "nbformat_minor": 2
}
