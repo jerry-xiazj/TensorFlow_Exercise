{
 "cells": [
  {
   "cell_type": "code",
   "execution_count": 1,
   "metadata": {},
   "outputs": [
    {
     "name": "stdout",
     "output_type": "stream",
     "text": [
      "1.13.1\n"
     ]
    }
   ],
   "source": [
    "import tensorflow as tf\n",
    "from tensorflow import keras\n",
    "\n",
    "import numpy as np\n",
    "\n",
    "print(tf.__version__)"
   ]
  },
  {
   "cell_type": "code",
   "execution_count": 2,
   "metadata": {},
   "outputs": [],
   "source": [
    "imdb = keras.datasets.imdb\n",
    "\n",
    "(train_data, train_labels), (test_data, test_labels) = imdb.load_data(num_words=10000)"
   ]
  },
  {
   "cell_type": "code",
   "execution_count": 3,
   "metadata": {},
   "outputs": [
    {
     "name": "stdout",
     "output_type": "stream",
     "text": [
      "Training entries: 25000, labels: 25000\n"
     ]
    }
   ],
   "source": [
    "print(\"Training entries: {}, labels: {}\".format(len(train_data), len(train_labels)))"
   ]
  },
  {
   "cell_type": "code",
   "execution_count": 7,
   "metadata": {},
   "outputs": [
    {
     "name": "stdout",
     "output_type": "stream",
     "text": [
      "Downloading data from https://storage.googleapis.com/tensorflow/tf-keras-datasets/imdb_word_index.json\n",
      "1646592/1641221 [==============================] - 1s 1us/step\n"
     ]
    }
   ],
   "source": [
    "# A dictionary mapping words to an integer index\n",
    "word_index = imdb.get_word_index()\n",
    "\n",
    "# The first indices are reserved\n",
    "word_index = {k:(v+3) for k,v in word_index.items()}\n",
    "word_index[\"<PAD>\"] = 0\n",
    "word_index[\"<START>\"] = 1\n",
    "word_index[\"<UNK>\"] = 2  # unknown\n",
    "word_index[\"<UNUSED>\"] = 3\n",
    "\n",
    "reverse_word_index = dict([(value, key) for (key, value) in word_index.items()])\n",
    "\n",
    "def decode_review(text):\n",
    "    return ' '.join([reverse_word_index.get(i, '?') for i in text])"
   ]
  },
  {
   "cell_type": "code",
   "execution_count": 8,
   "metadata": {},
   "outputs": [
    {
     "data": {
      "text/plain": [
       "\"<START> this film was just brilliant casting location scenery story direction everyone's really suited the part they played and you could just imagine being there robert <UNK> is an amazing actor and now the same being director <UNK> father came from the same scottish island as myself so i loved the fact there was a real connection with this film the witty remarks throughout the film were great it was just brilliant so much that i bought the film as soon as it was released for <UNK> and would recommend it to everyone to watch and the fly fishing was amazing really cried at the end it was so sad and you know what they say if you cry at a film it must have been good and this definitely was also <UNK> to the two little boy's that played the <UNK> of norman and paul they were just brilliant children are often left out of the <UNK> list i think because the stars that play them all grown up are such a big profile for the whole film but these children are amazing and should be praised for what they have done don't you think the whole story was so lovely because it was true and was someone's life after all that was shared with us all\""
      ]
     },
     "execution_count": 8,
     "metadata": {},
     "output_type": "execute_result"
    }
   ],
   "source": [
    "decode_review(train_data[0])"
   ]
  },
  {
   "cell_type": "code",
   "execution_count": 10,
   "metadata": {},
   "outputs": [
    {
     "data": {
      "text/plain": [
       "(256, 256)"
      ]
     },
     "execution_count": 10,
     "metadata": {},
     "output_type": "execute_result"
    }
   ],
   "source": [
    "train_data = keras.preprocessing.sequence.pad_sequences(train_data,\n",
    "                                                        value=word_index[\"<PAD>\"],\n",
    "                                                        padding='post',\n",
    "                                                        maxlen=256)\n",
    "\n",
    "test_data = keras.preprocessing.sequence.pad_sequences(test_data,\n",
    "                                                       value=word_index[\"<PAD>\"],\n",
    "                                                       padding='post',\n",
    "                                                       maxlen=256)\n",
    "\n",
    "len(train_data[0]), len(train_data[1])"
   ]
  },
  {
   "cell_type": "code",
   "execution_count": 13,
   "metadata": {},
   "outputs": [
    {
     "name": "stdout",
     "output_type": "stream",
     "text": [
      "WARNING:tensorflow:From C:\\ProgramData\\Anaconda3\\lib\\site-packages\\tensorflow\\python\\ops\\resource_variable_ops.py:435: colocate_with (from tensorflow.python.framework.ops) is deprecated and will be removed in a future version.\n",
      "Instructions for updating:\n",
      "Colocations handled automatically by placer.\n",
      "_________________________________________________________________\n",
      "Layer (type)                 Output Shape              Param #   \n",
      "=================================================================\n",
      "embedding (Embedding)        (None, None, 16)          160000    \n",
      "_________________________________________________________________\n",
      "global_average_pooling1d (Gl (None, 16)                0         \n",
      "_________________________________________________________________\n",
      "dense (Dense)                (None, 16)                272       \n",
      "_________________________________________________________________\n",
      "dense_1 (Dense)              (None, 1)                 17        \n",
      "=================================================================\n",
      "Total params: 160,289\n",
      "Trainable params: 160,289\n",
      "Non-trainable params: 0\n",
      "_________________________________________________________________\n"
     ]
    }
   ],
   "source": [
    "# input shape is the vocabulary count used for the movie reviews (10,000 words)\n",
    "vocab_size = 10000\n",
    "\n",
    "model = keras.Sequential()\n",
    "model.add(keras.layers.Embedding(vocab_size, 16))\n",
    "model.add(keras.layers.GlobalAveragePooling1D())\n",
    "model.add(keras.layers.Dense(16, activation=tf.nn.relu))\n",
    "model.add(keras.layers.Dense(1, activation=tf.nn.sigmoid))\n",
    "\n",
    "model.summary()"
   ]
  },
  {
   "cell_type": "code",
   "execution_count": 14,
   "metadata": {},
   "outputs": [],
   "source": [
    "model.compile(optimizer=tf.train.AdamOptimizer(),\n",
    "              loss='binary_crossentropy',\n",
    "              metrics=['accuracy'])"
   ]
  },
  {
   "cell_type": "code",
   "execution_count": 15,
   "metadata": {},
   "outputs": [],
   "source": [
    "x_val = train_data[:10000]\n",
    "partial_x_train = train_data[10000:]\n",
    "\n",
    "y_val = train_labels[:10000]\n",
    "partial_y_train = train_labels[10000:]"
   ]
  },
  {
   "cell_type": "code",
   "execution_count": 21,
   "metadata": {},
   "outputs": [
    {
     "name": "stdout",
     "output_type": "stream",
     "text": [
      "Train on 15000 samples, validate on 10000 samples\n",
      "WARNING:tensorflow:From C:\\ProgramData\\Anaconda3\\lib\\site-packages\\tensorflow\\python\\ops\\math_ops.py:3066: to_int32 (from tensorflow.python.ops.math_ops) is deprecated and will be removed in a future version.\n",
      "Instructions for updating:\n",
      "Use tf.cast instead.\n",
      "Epoch 1/40\n",
      "15000/15000 [==============================] - 2s 106us/sample - loss: 0.6922 - acc: 0.5525 - val_loss: 0.6907 - val_acc: 0.6538\n",
      "Epoch 2/40\n",
      "15000/15000 [==============================] - 1s 80us/sample - loss: 0.6875 - acc: 0.7331 - val_loss: 0.6840 - val_acc: 0.7534\n",
      "Epoch 3/40\n",
      "15000/15000 [==============================] - 1s 79us/sample - loss: 0.6766 - acc: 0.7630 - val_loss: 0.6697 - val_acc: 0.7597\n",
      "Epoch 4/40\n",
      "15000/15000 [==============================] - 1s 80us/sample - loss: 0.6563 - acc: 0.7703 - val_loss: 0.6461 - val_acc: 0.7593\n",
      "Epoch 5/40\n",
      "15000/15000 [==============================] - 1s 79us/sample - loss: 0.6253 - acc: 0.7956 - val_loss: 0.6131 - val_acc: 0.7805\n",
      "Epoch 6/40\n",
      "15000/15000 [==============================] - 1s 81us/sample - loss: 0.5836 - acc: 0.8127 - val_loss: 0.5714 - val_acc: 0.8023\n",
      "Epoch 7/40\n",
      "15000/15000 [==============================] - 1s 78us/sample - loss: 0.5352 - acc: 0.8260 - val_loss: 0.5261 - val_acc: 0.8184\n",
      "Epoch 8/40\n",
      "15000/15000 [==============================] - 1s 79us/sample - loss: 0.4865 - acc: 0.8447 - val_loss: 0.4839 - val_acc: 0.8329\n",
      "Epoch 9/40\n",
      "15000/15000 [==============================] - 1s 80us/sample - loss: 0.4412 - acc: 0.8601 - val_loss: 0.4459 - val_acc: 0.8417\n",
      "Epoch 10/40\n",
      "15000/15000 [==============================] - 1s 81us/sample - loss: 0.4012 - acc: 0.8723 - val_loss: 0.4144 - val_acc: 0.8496\n",
      "Epoch 11/40\n",
      "15000/15000 [==============================] - 1s 79us/sample - loss: 0.3674 - acc: 0.8809 - val_loss: 0.3884 - val_acc: 0.8596\n",
      "Epoch 12/40\n",
      "15000/15000 [==============================] - 1s 81us/sample - loss: 0.3391 - acc: 0.8886 - val_loss: 0.3685 - val_acc: 0.8614\n",
      "Epoch 13/40\n",
      "15000/15000 [==============================] - 1s 80us/sample - loss: 0.3161 - acc: 0.8946 - val_loss: 0.3510 - val_acc: 0.8675\n",
      "Epoch 14/40\n",
      "15000/15000 [==============================] - 1s 82us/sample - loss: 0.2955 - acc: 0.9003 - val_loss: 0.3383 - val_acc: 0.8711\n",
      "Epoch 15/40\n",
      "15000/15000 [==============================] - 1s 81us/sample - loss: 0.2784 - acc: 0.9043 - val_loss: 0.3278 - val_acc: 0.8734\n",
      "Epoch 16/40\n",
      "15000/15000 [==============================] - 1s 82us/sample - loss: 0.2630 - acc: 0.9101 - val_loss: 0.3190 - val_acc: 0.8748\n",
      "Epoch 17/40\n",
      "15000/15000 [==============================] - 1s 81us/sample - loss: 0.2489 - acc: 0.9144 - val_loss: 0.3117 - val_acc: 0.8781\n",
      "Epoch 18/40\n",
      "15000/15000 [==============================] - 1s 81us/sample - loss: 0.2365 - acc: 0.9191 - val_loss: 0.3054 - val_acc: 0.8805\n",
      "Epoch 19/40\n",
      "15000/15000 [==============================] - 1s 81us/sample - loss: 0.2253 - acc: 0.9220 - val_loss: 0.3001 - val_acc: 0.8824\n",
      "Epoch 20/40\n",
      "15000/15000 [==============================] - 1s 81us/sample - loss: 0.2152 - acc: 0.9248 - val_loss: 0.2965 - val_acc: 0.8811\n",
      "Epoch 21/40\n",
      "15000/15000 [==============================] - 1s 81us/sample - loss: 0.2050 - acc: 0.9301 - val_loss: 0.2933 - val_acc: 0.8823\n",
      "Epoch 22/40\n",
      "15000/15000 [==============================] - 1s 81us/sample - loss: 0.1964 - acc: 0.9329 - val_loss: 0.2905 - val_acc: 0.8841\n",
      "Epoch 23/40\n",
      "15000/15000 [==============================] - 1s 81us/sample - loss: 0.1877 - acc: 0.9375 - val_loss: 0.2892 - val_acc: 0.8837\n",
      "Epoch 24/40\n",
      "15000/15000 [==============================] - 1s 82us/sample - loss: 0.1802 - acc: 0.9407 - val_loss: 0.2872 - val_acc: 0.8850\n",
      "Epoch 25/40\n",
      "15000/15000 [==============================] - 1s 95us/sample - loss: 0.1725 - acc: 0.9448 - val_loss: 0.2857 - val_acc: 0.8846\n",
      "Epoch 26/40\n",
      "15000/15000 [==============================] - 1s 96us/sample - loss: 0.1657 - acc: 0.9471 - val_loss: 0.2860 - val_acc: 0.8840\n",
      "Epoch 27/40\n",
      "15000/15000 [==============================] - 1s 95us/sample - loss: 0.1592 - acc: 0.9495 - val_loss: 0.2853 - val_acc: 0.8850\n",
      "Epoch 28/40\n",
      "15000/15000 [==============================] - 1s 96us/sample - loss: 0.1530 - acc: 0.9529 - val_loss: 0.2852 - val_acc: 0.8853\n",
      "Epoch 29/40\n",
      "15000/15000 [==============================] - 1s 96us/sample - loss: 0.1476 - acc: 0.9553 - val_loss: 0.2869 - val_acc: 0.8836\n",
      "Epoch 30/40\n",
      "15000/15000 [==============================] - 1s 96us/sample - loss: 0.1420 - acc: 0.9564 - val_loss: 0.2860 - val_acc: 0.8865\n",
      "Epoch 31/40\n",
      "15000/15000 [==============================] - 1s 98us/sample - loss: 0.1363 - acc: 0.9597 - val_loss: 0.2868 - val_acc: 0.8864\n",
      "Epoch 32/40\n",
      "15000/15000 [==============================] - 1s 96us/sample - loss: 0.1310 - acc: 0.9621 - val_loss: 0.2881 - val_acc: 0.8863\n",
      "Epoch 33/40\n",
      "15000/15000 [==============================] - 1s 97us/sample - loss: 0.1261 - acc: 0.9637 - val_loss: 0.2901 - val_acc: 0.8855\n",
      "Epoch 34/40\n",
      "15000/15000 [==============================] - 1s 97us/sample - loss: 0.1216 - acc: 0.9654 - val_loss: 0.2916 - val_acc: 0.8866\n",
      "Epoch 35/40\n",
      "15000/15000 [==============================] - 1s 96us/sample - loss: 0.1175 - acc: 0.9661 - val_loss: 0.2940 - val_acc: 0.8858\n",
      "Epoch 36/40\n",
      "15000/15000 [==============================] - 1s 98us/sample - loss: 0.1130 - acc: 0.9688 - val_loss: 0.2957 - val_acc: 0.8854\n",
      "Epoch 37/40\n",
      "15000/15000 [==============================] - 1s 98us/sample - loss: 0.1088 - acc: 0.9695 - val_loss: 0.2979 - val_acc: 0.8847\n",
      "Epoch 38/40\n",
      "15000/15000 [==============================] - 1s 98us/sample - loss: 0.1049 - acc: 0.9715 - val_loss: 0.3012 - val_acc: 0.8839\n",
      "Epoch 39/40\n",
      "15000/15000 [==============================] - 1s 99us/sample - loss: 0.1017 - acc: 0.9722 - val_loss: 0.3040 - val_acc: 0.8835\n",
      "Epoch 40/40\n",
      "15000/15000 [==============================] - 1s 98us/sample - loss: 0.0977 - acc: 0.9739 - val_loss: 0.3062 - val_acc: 0.8837\n"
     ]
    }
   ],
   "source": [
    "history = model.fit(partial_x_train,\n",
    "                    partial_y_train,\n",
    "                    epochs=40,\n",
    "                    batch_size=512,\n",
    "                    validation_data=(x_val, y_val),\n",
    "                    verbose=1)"
   ]
  },
  {
   "cell_type": "code",
   "execution_count": 22,
   "metadata": {},
   "outputs": [
    {
     "name": "stdout",
     "output_type": "stream",
     "text": [
      "25000/25000 [==============================] - 0s 20us/sample - loss: 0.3272 - acc: 0.8730\n",
      "[0.32716083523750306, 0.87304]\n"
     ]
    }
   ],
   "source": [
    "results = model.evaluate(test_data, test_labels)\n",
    "\n",
    "print(results)"
   ]
  },
  {
   "cell_type": "code",
   "execution_count": 23,
   "metadata": {},
   "outputs": [
    {
     "data": {
      "text/plain": [
       "dict_keys(['loss', 'acc', 'val_loss', 'val_acc'])"
      ]
     },
     "execution_count": 23,
     "metadata": {},
     "output_type": "execute_result"
    }
   ],
   "source": [
    "history_dict = history.history\n",
    "history_dict.keys()"
   ]
  },
  {
   "cell_type": "code",
   "execution_count": 25,
   "metadata": {},
   "outputs": [
    {
     "data": {
      "image/png": "[encoded data removed]",
      "text/plain": [
       "<Figure size 432x288 with 1 Axes>"
      ]
     },
     "metadata": {
      "needs_background": "light"
     },
     "output_type": "display_data"
    }
   ],
   "source": [
    "import matplotlib.pyplot as plt\n",
    "\n",
    "acc = history.history['acc']\n",
    "val_acc = history.history['val_acc']\n",
    "loss = history.history['loss']\n",
    "val_loss = history.history['val_loss']\n",
    "\n",
    "epochs = range(1, len(acc) + 1)\n",
    "\n",
    "# \"bo\" is for \"blue dot\"\n",
    "plt.plot(epochs, loss, 'bo', label='Training loss')\n",
    "# b is for \"solid blue line\"\n",
    "plt.plot(epochs, val_loss, 'b', label='Validation loss')\n",
    "plt.title('Training and validation loss')\n",
    "plt.xlabel('Epochs')\n",
    "plt.ylabel('Loss')\n",
    "plt.legend()\n",
    "\n",
    "plt.show()"
   ]
  },
  {
   "cell_type": "code",
   "execution_count": 26,
   "metadata": {},
   "outputs": [
    {
     "data": {
      "image/png": "[encoded data removed]",
      "text/plain": [
       "<Figure size 432x288 with 1 Axes>"
      ]
     },
     "metadata": {
      "needs_background": "light"
     },
     "output_type": "display_data"
    }
   ],
   "source": [
    "plt.clf()   # clear figure\n",
    "acc_values = history_dict['acc']\n",
    "val_acc_values = history_dict['val_acc']\n",
    "\n",
    "plt.plot(epochs, acc, 'bo', label='Training acc')\n",
    "plt.plot(epochs, val_acc, 'b', label='Validation acc')\n",
    "plt.title('Training and validation accuracy')\n",
    "plt.xlabel('Epochs')\n",
    "plt.ylabel('Accuracy')\n",
    "plt.legend()\n",
    "\n",
    "plt.show()"
   ]
  },
  {
   "cell_type": "code",
   "execution_count": null,
   "metadata": {},
   "outputs": [],
   "source": []
  }
 ],
 "metadata": {
  "kernelspec": {
   "display_name": "Python 3",
   "language": "python",
   "name": "python3"
  },
  "language_info": {
   "codemirror_mode": {
    "name": "ipython",
    "version": 3
   },
   "file_extension": ".py",
   "mimetype": "text/x-python",
   "name": "python",
   "nbconvert_exporter": "python",
   "pygments_lexer": "ipython3",
   "version": "3.7.1"
  }
 },
 "nbformat": 4,
 "nbformat_minor": 2
}
